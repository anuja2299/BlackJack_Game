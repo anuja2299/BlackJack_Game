{
 "cells": [
  {
   "cell_type": "code",
   "execution_count": 27,
   "id": "ad9ebaba-d4bb-4e4f-a69e-9521fd04e730",
   "metadata": {},
   "outputs": [],
   "source": [
    "import random\n",
    "\n",
    "suits = ('Hearts','diamond','clubs','spade')\n",
    "ranks = ('Two','Three','Four','Five', 'Six' ,'Seven','Eight','Nine','Ten','Jack','Queen','King','Ace')\n",
    "values = {'Two':2,'Three':3,'Four':4, 'Five' :5,'Six':6, 'Seven' : 7, 'Eight': 8, 'Nine':9, 'Ten': 10, 'Jack': 11,'Queen':12, 'King':13,'Ace':14}\n",
    "\n",
    "playing = True"
   ]
  },
  {
   "cell_type": "code",
   "execution_count": 28,
   "id": "90121982-995c-45ce-a194-25af7925e469",
   "metadata": {},
   "outputs": [],
   "source": [
    "class Card:\n",
    "    \n",
    "    def __init__(self,suits,ranks):\n",
    "        self.suits = suits\n",
    "        self.ranks = ranks\n",
    "        self.values = values[self.ranks]\n",
    "    \n",
    "    def __str__(self):\n",
    "        return self.ranks + ' of ' + self.suits"
   ]
  },
  {
   "cell_type": "code",
   "execution_count": 29,
   "id": "6eafe332-8284-4f0a-83b7-5e1f442e8618",
   "metadata": {},
   "outputs": [],
   "source": [
    "class Deck:\n",
    "    \n",
    "    def __init__(self):\n",
    "        self.deck = []  # start with an empty list\n",
    "        for suit in suits:\n",
    "            for rank in ranks:\n",
    "                created_card = Card(suit,rank)\n",
    "                self.deck.append(created_card)\n",
    "    \n",
    "    def __str__(self):\n",
    "        deck_comp = ''\n",
    "        for card in self.deck:\n",
    "            deck_comp = deck_comp + '\\n' + card.__str__()\n",
    "        return \"The deck has\" + deck_comp\n",
    "\n",
    "    def shuffle(self):\n",
    "        random.shuffle(self.deck)\n",
    "        \n",
    "    def deal(self):\n",
    "        single_card = self.deck.pop()\n",
    "        return single_card"
   ]
  },
  {
   "cell_type": "code",
   "execution_count": 30,
   "id": "9dd0abab-d12f-43ed-8db4-9c52d6e8e148",
   "metadata": {},
   "outputs": [
    {
     "name": "stdout",
     "output_type": "stream",
     "text": [
      "The deck has\n",
      "Two of Hearts\n",
      "Three of Hearts\n",
      "Four of Hearts\n",
      "Five of Hearts\n",
      "Six of Hearts\n",
      "Seven of Hearts\n",
      "Eight of Hearts\n",
      "Nine of Hearts\n",
      "Ten of Hearts\n",
      "Jack of Hearts\n",
      "Queen of Hearts\n",
      "King of Hearts\n",
      "Ace of Hearts\n",
      "Two of diamond\n",
      "Three of diamond\n",
      "Four of diamond\n",
      "Five of diamond\n",
      "Six of diamond\n",
      "Seven of diamond\n",
      "Eight of diamond\n",
      "Nine of diamond\n",
      "Ten of diamond\n",
      "Jack of diamond\n",
      "Queen of diamond\n",
      "King of diamond\n",
      "Ace of diamond\n",
      "Two of clubs\n",
      "Three of clubs\n",
      "Four of clubs\n",
      "Five of clubs\n",
      "Six of clubs\n",
      "Seven of clubs\n",
      "Eight of clubs\n",
      "Nine of clubs\n",
      "Ten of clubs\n",
      "Jack of clubs\n",
      "Queen of clubs\n",
      "King of clubs\n",
      "Ace of clubs\n",
      "Two of spade\n",
      "Three of spade\n",
      "Four of spade\n",
      "Five of spade\n",
      "Six of spade\n",
      "Seven of spade\n",
      "Eight of spade\n",
      "Nine of spade\n",
      "Ten of spade\n",
      "Jack of spade\n",
      "Queen of spade\n",
      "King of spade\n",
      "Ace of spade\n"
     ]
    }
   ],
   "source": [
    "test_deck = Deck()\n",
    "print(test_deck)"
   ]
  },
  {
   "cell_type": "code",
   "execution_count": 31,
   "id": "26f9d37e-f68d-4db2-af8a-4d3c63f90937",
   "metadata": {},
   "outputs": [],
   "source": [
    "class Hand:\n",
    "    def __init__(self):\n",
    "        self.cards = []  # start with an empty list as we did in the Deck class\n",
    "        self.value = 0   # start with zero value\n",
    "        self.aces = 0    # add an attribute to keep track of aces\n",
    "    \n",
    "    def add_card(self,card):\n",
    "        self.cards.append(card)\n",
    "        self.value += values[card.ranks]\n",
    "        if card.ranks == 'Ace':\n",
    "            self.aces += 1\n",
    "    \n",
    "    def adjust_for_ace(self):\n",
    "        while self.value > 21 and self.aces:\n",
    "            self.value -= 10\n",
    "            self.aces -= 1"
   ]
  },
  {
   "cell_type": "code",
   "execution_count": 32,
   "id": "afc906f6-5b33-4f3d-ba58-8be9cab718f2",
   "metadata": {},
   "outputs": [
    {
     "name": "stdout",
     "output_type": "stream",
     "text": [
      "Four of diamond\n",
      "4\n"
     ]
    }
   ],
   "source": [
    "test_deck = Deck()\n",
    "test_deck.shuffle()\n",
    "\n",
    "test_player = Hand()\n",
    "pulled_card = test_deck.deal()\n",
    "print(pulled_card)\n",
    "test_player.add_card(pulled_card)\n",
    "print(test_player.value)"
   ]
  },
  {
   "cell_type": "code",
   "execution_count": 33,
   "id": "6ef8a96f-4243-4352-b655-6cfac5557f8e",
   "metadata": {},
   "outputs": [],
   "source": [
    "class Chips:\n",
    "    \n",
    "    def __init__(self):\n",
    "        self.total = 100  # This can be set to a default value or supplied by a user input\n",
    "        self.bet = 0\n",
    "        \n",
    "    def win_bet(self):\n",
    "        self.total += self.bet\n",
    "    \n",
    "    def lose_bet(self):\n",
    "        self.total -= self.bet"
   ]
  },
  {
   "cell_type": "code",
   "execution_count": 34,
   "id": "80340f05-8b96-4978-b97a-f93999401983",
   "metadata": {},
   "outputs": [],
   "source": [
    "def take_bet(chips):\n",
    "    while True:\n",
    "        try:\n",
    "            chips.bet = int(input(\"How many chips would you like to be? \"))\n",
    "        except ValueError:\n",
    "            print('A bet must be an integer!')\n",
    "        else:\n",
    "            if chips.bet > chips.total:\n",
    "                print(\"Sorry, your bet can't exceed\",chips.total)\n",
    "            else:\n",
    "                break"
   ]
  },
  {
   "cell_type": "code",
   "execution_count": 35,
   "id": "dce38a0b-38b2-46bb-a4e8-17b074fafdb3",
   "metadata": {},
   "outputs": [],
   "source": [
    "def hit(deck,hand):\n",
    "    single_card = deck.deal()\n",
    "    hand.add_card(single_card)\n",
    "    hand.adjust_for_ace()"
   ]
  },
  {
   "cell_type": "code",
   "execution_count": 36,
   "id": "1c64696b-e180-4d4f-aa7c-4bcddbdae3ca",
   "metadata": {},
   "outputs": [],
   "source": [
    "def hit_or_stand(deck,hand):\n",
    "    global playing  # to control an upcoming while loop\n",
    "    while True:\n",
    "        x = input(\"HIt or Stand? Enter h or s\")\n",
    "        if x[0].lower() == 'h':\n",
    "            hit(deck,hand)\n",
    "        elif x[0].lower() == 's':\n",
    "            print(\"player stands dealers Turn\")\n",
    "            playing = False\n",
    "        else:\n",
    "            print(\"Sorry, I did not understand that, Please enter h or s only!\")\n",
    "            continue\n",
    "        break"
   ]
  },
  {
   "cell_type": "code",
   "execution_count": 37,
   "id": "22726ae0-8ec5-4c68-aad3-c9f63270fc63",
   "metadata": {},
   "outputs": [],
   "source": [
    "def show_some(player,dealer):\n",
    "    print(\"\\n Dealer's Hand: \")\n",
    "    print(\"First card is hidden! \")\n",
    "    print(dealer.cards[1])\n",
    "    print(\"\\n Player's Hand:\")\n",
    "    for card in player.cards:\n",
    "        print(card)\n",
    "    \n",
    "def show_all(player,dealer):\n",
    "    print(\"\\n dealer's hand: \")\n",
    "    for card in dealer.cards:\n",
    "        print(card)\n",
    "    print(f\"Value in dealers hand is :{dealer.value}\")\n",
    "\n",
    "    print(\"\\n player's hand: \")\n",
    "    for card in player.cards:\n",
    "        print(card)"
   ]
  },
  {
   "cell_type": "code",
   "execution_count": 38,
   "id": "7ec589bf-a6a7-40c6-b07f-02108dbc90f3",
   "metadata": {},
   "outputs": [],
   "source": [
    "def player_busts(player,dealer,chips):\n",
    "    print('Player BUST!')\n",
    "    chips.lose_bet()\n",
    "\n",
    "def player_wins(player,dealer,chips):\n",
    "    print('Player WINS!')\n",
    "    chips.win_bet()\n",
    "\n",
    "def dealer_busts(player,dealer,chips):\n",
    "    print('Player WINS dealer busted')\n",
    "    chips.win_bet()\n",
    "    \n",
    "def dealer_wins(player,dealer,chips):\n",
    "    print(\"Player BUSTED dealer WINS!\")\n",
    "    chips.lose_bet()\n",
    "    \n",
    "def push(player,dealer):\n",
    "    print('dealer and player is tie! PUSH')"
   ]
  },
  {
   "cell_type": "code",
   "execution_count": 39,
   "id": "26e47fff-87a2-4536-8301-a0fc04059fbf",
   "metadata": {},
   "outputs": [
    {
     "name": "stdout",
     "output_type": "stream",
     "text": [
      "WELCOME TO BLACKJACK\n"
     ]
    },
    {
     "name": "stdin",
     "output_type": "stream",
     "text": [
      "How many chips would you like to be?  7\n"
     ]
    },
    {
     "name": "stdout",
     "output_type": "stream",
     "text": [
      "\n",
      " Dealer's Hand: \n",
      "First card is hidden! \n",
      "Six of diamond\n",
      "\n",
      " Player's Hand:\n",
      "Eight of Hearts\n",
      "Seven of Hearts\n"
     ]
    },
    {
     "name": "stdin",
     "output_type": "stream",
     "text": [
      "HIt or Stand? Enter h or s h\n"
     ]
    },
    {
     "name": "stdout",
     "output_type": "stream",
     "text": [
      "\n",
      " Dealer's Hand: \n",
      "First card is hidden! \n",
      "Six of diamond\n",
      "\n",
      " Player's Hand:\n",
      "Eight of Hearts\n",
      "Seven of Hearts\n",
      "Queen of diamond\n",
      "Player BUST!\n",
      "player's total chips are at 93\n"
     ]
    },
    {
     "name": "stdin",
     "output_type": "stream",
     "text": [
      "Would you like to play another hand? y/n y\n"
     ]
    },
    {
     "name": "stdout",
     "output_type": "stream",
     "text": [
      "WELCOME TO BLACKJACK\n"
     ]
    },
    {
     "name": "stdin",
     "output_type": "stream",
     "text": [
      "How many chips would you like to be?  98\n"
     ]
    },
    {
     "name": "stdout",
     "output_type": "stream",
     "text": [
      "\n",
      " Dealer's Hand: \n",
      "First card is hidden! \n",
      "Queen of spade\n",
      "\n",
      " Player's Hand:\n",
      "Two of diamond\n",
      "Ten of spade\n"
     ]
    },
    {
     "name": "stdin",
     "output_type": "stream",
     "text": [
      "HIt or Stand? Enter h or s h\n"
     ]
    },
    {
     "name": "stdout",
     "output_type": "stream",
     "text": [
      "\n",
      " Dealer's Hand: \n",
      "First card is hidden! \n",
      "Queen of spade\n",
      "\n",
      " Player's Hand:\n",
      "Two of diamond\n",
      "Ten of spade\n",
      "Six of spade\n"
     ]
    },
    {
     "name": "stdin",
     "output_type": "stream",
     "text": [
      "HIt or Stand? Enter h or s h\n"
     ]
    },
    {
     "name": "stdout",
     "output_type": "stream",
     "text": [
      "\n",
      " Dealer's Hand: \n",
      "First card is hidden! \n",
      "Queen of spade\n",
      "\n",
      " Player's Hand:\n",
      "Two of diamond\n",
      "Ten of spade\n",
      "Six of spade\n",
      "Eight of clubs\n",
      "Player BUST!\n",
      "player's total chips are at 2\n"
     ]
    },
    {
     "name": "stdin",
     "output_type": "stream",
     "text": [
      "Would you like to play another hand? y/n n\n"
     ]
    },
    {
     "name": "stdout",
     "output_type": "stream",
     "text": [
      "Thank you\n"
     ]
    }
   ],
   "source": [
    "while True:\n",
    "    print(\"WELCOME TO BLACKJACK\")\n",
    "    deck = Deck()\n",
    "    deck.shuffle()\n",
    "    player_hand = Hand()\n",
    "    player_hand.add_card(deck.deal())\n",
    "    player_hand.add_card(deck.deal())\n",
    "    dealer_hand = Hand()\n",
    "    dealer_hand.add_card(deck.deal())\n",
    "    dealer_hand.add_card(deck.deal())\n",
    "    player_chips = Chips()\n",
    "    take_bet(player_chips)\n",
    "    show_some(player_hand, dealer_hand)\n",
    "    while playing:\n",
    "        hit_or_stand(deck,player_hand)\n",
    "        show_some(player_hand, dealer_hand)\n",
    "        if player_hand.value > 21:\n",
    "            player_busts(player_hand,dealer_hand,player_chips)\n",
    "            break\n",
    "    if player_hand.value <= 21:\n",
    "        while dealer_hand.value < player_hand.value:\n",
    "            hit(deck,dealer_hand)\n",
    "        show_all(player_hand,dealer_hand)\n",
    "        if dealer_hand.value > 21:\n",
    "            dealer_busts(player_hand,dealer_hand,player_chips)\n",
    "        elif dealer_hand.value > player_hand.value:\n",
    "            dealer_wins(player_hand,dealer_hand,player_chips)\n",
    "        elif dealer_hand.value < player_hand.value:\n",
    "            player_wins(player_hand,dealer_hand,player_chips)\n",
    "        else:\n",
    "            push(player_hand,dealer_hand)\n",
    "    print(\"player's total chips are at {}\".format(player_chips.total))   \n",
    "    new_game = input(\"Would you like to play another hand? y/n\")\n",
    "    if new_game[0].lower() == 'y':\n",
    "        playing = True\n",
    "        continue\n",
    "    else:\n",
    "        print(\"Thank you\")\n",
    "        break"
   ]
  },
  {
   "cell_type": "code",
   "execution_count": null,
   "id": "a173a94c-3113-4ed0-8b4f-4bc149539429",
   "metadata": {},
   "outputs": [],
   "source": []
  }
 ],
 "metadata": {
  "kernelspec": {
   "display_name": "Python 3 (ipykernel)",
   "language": "python",
   "name": "python3"
  },
  "language_info": {
   "codemirror_mode": {
    "name": "ipython",
    "version": 3
   },
   "file_extension": ".py",
   "mimetype": "text/x-python",
   "name": "python",
   "nbconvert_exporter": "python",
   "pygments_lexer": "ipython3",
   "version": "3.11.7"
  }
 },
 "nbformat": 4,
 "nbformat_minor": 5
}
